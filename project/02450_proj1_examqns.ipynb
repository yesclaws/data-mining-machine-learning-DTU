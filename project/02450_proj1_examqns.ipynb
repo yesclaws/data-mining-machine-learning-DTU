{
 "cells": [
  {
   "cell_type": "code",
   "execution_count": 1,
   "metadata": {},
   "outputs": [
    {
     "name": "stdout",
     "output_type": "stream",
     "text": [
      "Variance explained by the first principal component: 0.28819905349708913\n",
      "Variance explained by the second principal component: 0.23195079032112995\n",
      "Variance explained by the third principal component: 0.19658334734228444\n",
      "Variance explained by the fourth principal component: 0.15005995632190522\n"
     ]
    }
   ],
   "source": [
    "import numpy as np\n",
    "\n",
    "# Given matrix V\n",
    "V = np.array([\n",
    "    [0.49, -0.5, 0.08, -0.49, 0.52],\n",
    "    [0.58, 0.23, -0.01, 0.71, 0.33],\n",
    "    [0.56, 0.23, 0.43, -0.25, -0.62],\n",
    "    [0.31, 0.09, -0.9, -0.19, -0.24],\n",
    "    [-0.06, 0.8, 0.03, -0.41, 0.43]\n",
    "])\n",
    "\n",
    "# Given diagonal elements of matrix S\n",
    "diag_elements = np.array([13.9, 12.47, 11.48, 10.03, 9.45])\n",
    "\n",
    "# Calculate the total variance\n",
    "total_variance = np.sum(diag_elements ** 2)\n",
    "\n",
    "# Calculate the variance explained by each principal component\n",
    "variance_explained = (diag_elements ** 2) / total_variance\n",
    "\n",
    "# Print the results for the first four principal components\n",
    "print(\"Variance explained by the first principal component:\", variance_explained[0])\n",
    "print(\"Variance explained by the second principal component:\", variance_explained[1])\n",
    "print(\"Variance explained by the third principal component:\", variance_explained[2])\n",
    "print(\"Variance explained by the fourth principal component:\", variance_explained[3])\n"
   ]
  },
  {
   "cell_type": "code",
   "execution_count": null,
   "metadata": {},
   "outputs": [],
   "source": [
    "# Sets for s1 and s2\n",
    "s1_set = {\"the\", \"bag\", \"of\", \"words\", \"representation\", \"becomes\", \"less\", \"parsimoneous\"}\n",
    "s2_set = {\"if\", \"we\", \"do\", \"not\", \"stem\", \"the\", \"words\"}\n",
    "\n",
    "# Calculate Jaccard similarity\n",
    "intersection_size = len(s1_set.intersection(s2_set))\n",
    "union_size = len(s1_set.union(s2_set))\n",
    "\n",
    "jaccard_similarity = intersection_size / union_size\n",
    "\n",
    "# Print the result\n",
    "print(\"Jaccard similarity of s1 and s2:\", jaccard_similarity)\n"
   ]
  },
  {
   "cell_type": "code",
   "execution_count": null,
   "metadata": {},
   "outputs": [],
   "source": [
    "V = np.array([\n",
    "    [0.49, -0.5, 0.08, -0.49, 0.52],\n",
    "    [0.58, 0.23, -0.01, 0.71, 0.33],\n",
    "    [0.56, 0.23, 0.43, -0.25, -0.62],\n",
    "    [0.31, 0.09, -0.9, -0.19, -0.24],\n",
    "    [-0.06, 0.8, 0.03, -0.41, 0.43]\n",
    "])"
   ]
  }
 ],
 "metadata": {
  "kernelspec": {
   "display_name": "base",
   "language": "python",
   "name": "python3"
  },
  "language_info": {
   "codemirror_mode": {
    "name": "ipython",
    "version": 3
   },
   "file_extension": ".py",
   "mimetype": "text/x-python",
   "name": "python",
   "nbconvert_exporter": "python",
   "pygments_lexer": "ipython3",
   "version": "3.9.7"
  }
 },
 "nbformat": 4,
 "nbformat_minor": 2
}
